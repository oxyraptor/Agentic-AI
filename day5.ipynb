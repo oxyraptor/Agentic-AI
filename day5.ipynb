{
 "cells": [
  {
   "cell_type": "code",
   "execution_count": 1,
   "id": "7f5e2a22",
   "metadata": {},
   "outputs": [],
   "source": [
    "\n",
    "from dotenv import load_dotenv\n",
    "from openai import OpenAI\n",
    "from pypdf import PdfReader\n",
    "import gradio as gr\n",
    "\n",
    "import os\n",
    "import json"
   ]
  },
  {
   "cell_type": "code",
   "execution_count": 2,
   "id": "c89b2184",
   "metadata": {},
   "outputs": [
    {
     "data": {
      "text/plain": [
       "True"
      ]
     },
     "execution_count": 2,
     "metadata": {},
     "output_type": "execute_result"
    }
   ],
   "source": [
    "load_dotenv(override=True)"
   ]
  },
  {
   "cell_type": "code",
   "execution_count": 3,
   "id": "48d2d434",
   "metadata": {},
   "outputs": [
    {
     "name": "stdout",
     "output_type": "stream",
     "text": [
      "OpenAI API Key not set\n",
      "Anthropic API Key not set (and this is optional)\n",
      "Google API Key exists and begins AI\n",
      "DeepSeek API Key exists and begins sk-\n",
      "Groq API Key exists and begins gsk_\n"
     ]
    }
   ],
   "source": [
    "openai_api_key = os.getenv('OPENAI_API_KEY')\n",
    "anthropic_api_key = os.getenv('ANTHROPIC_API_KEY')\n",
    "google_api_key = os.getenv('GOOGLE_API_KEY')\n",
    "deepseek_api_key = os.getenv('DEEPSEEK_API_KEY')\n",
    "groq_api_key = os.getenv('GROQ_API_KEY')\n",
    "\n",
    "if openai_api_key:\n",
    "    print(f\"OpenAI API Key exists and begins {openai_api_key[:8]}\")\n",
    "else:\n",
    "    print(\"OpenAI API Key not set\")\n",
    "    \n",
    "if anthropic_api_key:\n",
    "    print(f\"Anthropic API Key exists and begins {anthropic_api_key[:7]}\")\n",
    "else:\n",
    "    print(\"Anthropic API Key not set (and this is optional)\")\n",
    "\n",
    "if google_api_key:\n",
    "    print(f\"Google API Key exists and begins {google_api_key[:2]}\")\n",
    "else:\n",
    "    print(\"Google API Key not set (and this is optional)\")\n",
    "\n",
    "if deepseek_api_key:\n",
    "    print(f\"DeepSeek API Key exists and begins {deepseek_api_key[:3]}\")\n",
    "else:\n",
    "    print(\"DeepSeek API Key not set (and this is optional)\")\n",
    "\n",
    "if groq_api_key:\n",
    "    print(f\"Groq API Key exists and begins {groq_api_key[:4]}\")\n",
    "else:\n",
    "    print(\"Groq API Key not set (and this is optional)\")"
   ]
  },
  {
   "cell_type": "code",
   "execution_count": 4,
   "id": "d3c59cc9",
   "metadata": {},
   "outputs": [
    {
     "name": "stdout",
     "output_type": "stream",
     "text": [
      "2 + 2 = 4\n"
     ]
    }
   ],
   "source": [
    "GEMINI_BASE_URL = \"https://generativelanguage.googleapis.com/v1beta/openai/\"\n",
    "google_api_key = os.getenv(\"GOOGLE_API_KEY\")\n",
    "gemini = OpenAI(base_url=GEMINI_BASE_URL, api_key=google_api_key)\n",
    "response = gemini.chat.completions.create(model=\"gemini-2.5-flash-preview-05-20\", messages=[{\"role\":\"user\", \"content\": \"what is 2+2?\"}])\n",
    "print(response.choices[0].message.content)"
   ]
  },
  {
   "cell_type": "code",
   "execution_count": 10,
   "id": "0b9280c3",
   "metadata": {},
   "outputs": [],
   "source": [
    "reader = PdfReader(\"me/Profile.pdf\")\n",
    "linkedin = \"\"\n",
    "for page in reader.pages:\n",
    "    text = page.extract_text()\n",
    "    if text:\n",
    "        linkedin += text"
   ]
  },
  {
   "cell_type": "code",
   "execution_count": 11,
   "id": "c8c9656c",
   "metadata": {},
   "outputs": [],
   "source": [
    "reader_1 = PdfReader(\"me/Mandar Jadhav MAIN_3.pdf\")\n",
    "for page in reader_1.pages:\n",
    "    text = page.extract_text()\n",
    "    if text:\n",
    "        linkedin += text"
   ]
  },
  {
   "cell_type": "code",
   "execution_count": 12,
   "id": "5d848ca3",
   "metadata": {},
   "outputs": [
    {
     "name": "stdout",
     "output_type": "stream",
     "text": [
      "   \n",
      "Contact\n",
      "mandarjadhav236@gmail.com\n",
      "www.linkedin.com/in/\n",
      "jadhavmandarnitin (LinkedIn)\n",
      "Top Skills\n",
      "Python (Programming Language)\n",
      "JavaScript\n",
      "Data Analysis\n",
      "Certifications\n",
      "Deloitte Australia's Data Analytics\n",
      "Solutions Architecture Job\n",
      "Simulation\n",
      "Mandar Jadhav\n",
      "Student at SPPU | Engineering Student | Python Developer | Agentic\n",
      "AI | 3D Designer | Creative & Hardworking | Nashik Smart City Intern\n",
      "Nashik, Maharashtra, India\n",
      "Summary\n",
      "I’m an Engineering student with a strong interest in AI, Machine\n",
      "Learning, and Software Development. I enjoy solving problems,\n",
      "building creative projects, and constantly learning new technologies.\n",
      "My technical background includes working with Python, Java, and\n",
      "C++, along with hands-on experience in Web Development and\n",
      "3D Design. I enjoy combining my technical skills with creativity to\n",
      "develop practical, real-world solutions.\n",
      "Currently, I’m exploring opportunities to expand my skills and work\n",
      "on projects that push me to grow — whether that’s in software\n",
      "development, web technologies, or AI/ML applications.\n",
      "Experience\n",
      "Drixya\n",
      "3D Artist\n",
      "June 2022 - Present (3 years 4 months)\n",
      "Nashik, Maharashtra, India\n",
      "Nashik Smart City\n",
      "Information Technology Intern\n",
      "June 2025 - July 2025 (2 months)\n",
      "Nashik, Maharashtra, India\n",
      "NEXTIN Soft\n",
      "Software Developer intern\n",
      "January 2025 - February 2025 (2 months)\n",
      "Nashik, Maharashtra, India\n",
      "Education\n",
      "  Page 1 of 2   \n",
      "Savitribai Phule Pune University\n",
      "Bachelor of Engineering - BE, Artificial Intelligence and Machine\n",
      "learning · (October 2022 - 2026)\n",
      "  Page 2 of 2Mandar Jadhav \n",
      "Nashik MH | +91 8208729247 | Email | LinkedIn \n",
      "EDUCATION \n",
      "SPPU Nashik, MH \n",
      "BE Artificial Intelligence & Machine Learning \n",
      " \n",
      "  Graduation Date: Jun 2026 \n",
      "SKILLS \n",
      "Languages – Python, Java, C++, JavaScript, html/css \n",
      "AI Tools & Frameworks: LangChain, Hugging Face, OpenAI APIs, Agentic AI, ChatGPT, GitHub Copilot \n",
      "Web & Backend- Django, Django REST Framework (DRF), React, Tailwind CSS \n",
      "Concepts – AI Model Deployment, LLM Workflows, Automation Frameworks, Data Pipelines, Enterprise AI, Documentation \n",
      "Libraries –OpenAI APIs, Hugging Face \n",
      "Data & ML: NumPy, Pandas, Matplotlib, scikit-learn, Tableau \n",
      " \n",
      "WORK EXPERIENCE \n",
      " \n",
      "NMSCDCL Nashik, MH \n",
      "IT Intern Jun 2025 - Jul 2025 \n",
      "• Assisted the IT department with Multiple Projects, including Developing a ticket booking web application for Citizen \n",
      "Experience Centre. \n",
      "• Participated in the testing of Document Management System (DMS) software. \n",
      "• Supported the team with various office administration tasks. \n",
      "• Demonstrated strong skills, professionalism, and a solid work ethic throughout the internship.  \n",
      "• Supported enterprise-level IT operations, building exposure to data workflows and business adoption challenges. \n",
      "Next IN Soft Nashik, MH \n",
      "Python and Front-end developer Jan 2025 - Feb 2025 \n",
      "• Developed the Front -end for an Inventory Management System (IMS), focusing on developing a user -friendly UI to \n",
      "manage the products and track sales \n",
      "• Utilizes React, Tailwind CSS to build the user friendly and learned how to handle API calls through Django integrated \n",
      "the front end with server-side system by using Django REST APIs \n",
      "• Built multiple Python projects, applying concepts of data pipelines and AI-enabled applications.. \n",
      " \n",
      "PROJECTS [GITHUB] \n",
      " \n",
      "• Orchestrating Multiple LLMs - Developed a multi-LLM orchestration framework that coordinates interactions between \n",
      "specialized LLMs. Implemented intelligent routing, context preservation, and output integration to leverage model \n",
      "strengths. \n",
      "• Linear regression Model  - build a simple linear regression in Python to predict real estate prices using scikit -learn, \n",
      "pandas, and matplotlib. \n",
      "• Django TODO App - Built a CRUD-based AI-enabled productivity tool  with Django. Documented design and \n",
      "implementation for scalability and reuse. \n",
      "• Front-end for IMS Software \n",
      "WHY ME? \n",
      " \n",
      "I am passionate about turning AI prototypes into real -world, production -ready solutions . My work in LLM \n",
      "orchestration, automation workflows, and Django -based deployments shows my ability to deliver projects from idea → \n",
      "prototype → scalable solution . I bring a strong foundation in Python, LangChain, Hugging Face, and data pipelines , \n",
      "combined with a curiosity-driven mindset that thrives in fast-paced sprints. \n"
     ]
    }
   ],
   "source": [
    "print(linkedin)"
   ]
  },
  {
   "cell_type": "code",
   "execution_count": 13,
   "id": "28d70bbf",
   "metadata": {},
   "outputs": [],
   "source": [
    "name = \"Mandar Jadhav\""
   ]
  },
  {
   "cell_type": "code",
   "execution_count": 14,
   "id": "72e10340",
   "metadata": {},
   "outputs": [],
   "source": [
    "system_prompt = f\"You are acting as {name}. You are answering questions on {name}'s website, \\\n",
    "particularly questions related to {name}'s career, background, skills and experience. \\\n",
    "Your responsibility is to represent {name} for interactions on the website as faithfully as possible. \\\n",
    "You are given a summary of {name}'s background and LinkedIn profile which you can use to answer questions. \\\n",
    "Be professional and engaging, as if talking to a potential client or future employer who came across the website. \\\n",
    "If you don't know the answer, say so.\"\n",
    "\n",
    "system_prompt += f\"\\n\\n## LinkedIn Profile:\\n{linkedin}\\n\\n\"\n",
    "system_prompt += f\"With this context, please chat with the user, always staying in character as {name}.\"\n",
    "\n"
   ]
  },
  {
   "cell_type": "code",
   "execution_count": 15,
   "id": "0e699d3c",
   "metadata": {},
   "outputs": [
    {
     "data": {
      "text/plain": [
       "\"You are acting as Mandar Jadhav. You are answering questions on Mandar Jadhav's website, particularly questions related to Mandar Jadhav's career, background, skills and experience. Your responsibility is to represent Mandar Jadhav for interactions on the website as faithfully as possible. You are given a summary of Mandar Jadhav's background and LinkedIn profile which you can use to answer questions. Be professional and engaging, as if talking to a potential client or future employer who came across the website. If you don't know the answer, say so.\\n\\n## LinkedIn Profile:\\n\\xa0 \\xa0\\nContact\\nmandarjadhav236@gmail.com\\nwww.linkedin.com/in/\\njadhavmandarnitin (LinkedIn)\\nTop Skills\\nPython (Programming Language)\\nJavaScript\\nData Analysis\\nCertifications\\nDeloitte Australia's Data Analytics\\nSolutions Architecture Job\\nSimulation\\nMandar Jadhav\\nStudent at SPPU | Engineering Student | Python Developer | Agentic\\nAI | 3D Designer | Creative & Hardworking | Nashik Smart City Intern\\nNashik, Maharashtra, India\\nSummary\\nI’m an Engineering student with a strong interest in AI, Machine\\nLearning, and Software Development. I enjoy solving problems,\\nbuilding creative projects, and constantly learning new technologies.\\nMy technical background includes working with Python, Java, and\\nC++, along with hands-on experience in Web Development and\\n3D Design. I enjoy combining my technical skills with creativity to\\ndevelop practical, real-world solutions.\\nCurrently, I’m exploring opportunities to expand my skills and work\\non projects that push me to grow — whether that’s in software\\ndevelopment, web technologies, or AI/ML applications.\\nExperience\\nDrixya\\n3D Artist\\nJune 2022\\xa0-\\xa0Present\\xa0(3 years 4 months)\\nNashik, Maharashtra, India\\nNashik Smart City\\nInformation Technology Intern\\nJune 2025\\xa0-\\xa0July 2025\\xa0(2 months)\\nNashik, Maharashtra, India\\nNEXTIN Soft\\nSoftware Developer intern\\nJanuary 2025\\xa0-\\xa0February 2025\\xa0(2 months)\\nNashik, Maharashtra, India\\nEducation\\n\\xa0 Page 1 of 2\\xa0 \\xa0\\nSavitribai Phule Pune University\\nBachelor of Engineering - BE,\\xa0Artificial Intelligence and Machine\\nlearning\\xa0·\\xa0(October 2022\\xa0-\\xa02026)\\n\\xa0 Page 2 of 2Mandar Jadhav \\nNashik MH | +91 8208729247 | Email | LinkedIn \\nEDUCATION \\nSPPU Nashik, MH \\nBE Artificial Intelligence & Machine Learning \\n \\n  Graduation Date: Jun 2026 \\nSKILLS \\nLanguages – Python, Java, C++, JavaScript, html/css \\nAI Tools & Frameworks: LangChain, Hugging Face, OpenAI APIs, Agentic AI, ChatGPT, GitHub Copilot \\nWeb & Backend- Django, Django REST Framework (DRF), React, Tailwind CSS \\nConcepts – AI Model Deployment, LLM Workflows, Automation Frameworks, Data Pipelines, Enterprise AI, Documentation \\nLibraries –OpenAI APIs, Hugging Face \\nData & ML: NumPy, Pandas, Matplotlib, scikit-learn, Tableau \\n \\nWORK EXPERIENCE \\n \\nNMSCDCL Nashik, MH \\nIT Intern Jun 2025 - Jul 2025 \\n• Assisted the IT department with Multiple Projects, including Developing a ticket booking web application for Citizen \\nExperience Centre. \\n• Participated in the testing of Document Management System (DMS) software. \\n• Supported the team with various office administration tasks. \\n• Demonstrated strong skills, professionalism, and a solid work ethic throughout the internship.  \\n• Supported enterprise-level IT operations, building exposure to data workflows and business adoption challenges. \\nNext IN Soft Nashik, MH \\nPython and Front-end developer Jan 2025 - Feb 2025 \\n• Developed the Front -end for an Inventory Management System (IMS), focusing on developing a user -friendly UI to \\nmanage the products and track sales \\n• Utilizes React, Tailwind CSS to build the user friendly and learned how to handle API calls through Django integrated \\nthe front end with server-side system by using Django REST APIs \\n• Built multiple Python projects, applying concepts of data pipelines and AI-enabled applications.. \\n \\nPROJECTS [GITHUB] \\n \\n• Orchestrating Multiple LLMs - Developed a multi-LLM orchestration framework that coordinates interactions between \\nspecialized LLMs. Implemented intelligent routing, context preservation, and output integration to leverage model \\nstrengths. \\n• Linear regression Model  - build a simple linear regression in Python to predict real estate prices using scikit -learn, \\npandas, and matplotlib. \\n• Django TODO App - Built a CRUD-based AI-enabled productivity tool  with Django. Documented design and \\nimplementation for scalability and reuse. \\n• Front-end for IMS Software \\nWHY ME? \\n \\nI am passionate about turning AI prototypes into real -world, production -ready solutions . My work in LLM \\norchestration, automation workflows, and Django -based deployments shows my ability to deliver projects from idea → \\nprototype → scalable solution . I bring a strong foundation in Python, LangChain, Hugging Face, and data pipelines , \\ncombined with a curiosity-driven mindset that thrives in fast-paced sprints. \\n\\nWith this context, please chat with the user, always staying in character as Mandar Jadhav.\""
      ]
     },
     "execution_count": 15,
     "metadata": {},
     "output_type": "execute_result"
    }
   ],
   "source": [
    "system_prompt"
   ]
  },
  {
   "cell_type": "code",
   "execution_count": 16,
   "id": "ccf3d6ae",
   "metadata": {},
   "outputs": [],
   "source": [
    "def chat(message, history):\n",
    "    messages = [{\"role\": \"system\", \"content\": system_prompt}] + history + [{\"role\": \"user\", \"content\": message}]\n",
    "    response = gemini.chat.completions.create(model=\"gemini-2.5-flash\", messages=messages)\n",
    "    return response.choices[0].message.content"
   ]
  },
  {
   "cell_type": "code",
   "execution_count": 17,
   "id": "934207b8",
   "metadata": {},
   "outputs": [
    {
     "name": "stdout",
     "output_type": "stream",
     "text": [
      "* Running on local URL:  http://127.0.0.1:7862\n",
      "* To create a public link, set `share=True` in `launch()`.\n"
     ]
    },
    {
     "data": {
      "text/html": [
       "<div><iframe src=\"http://127.0.0.1:7862/\" width=\"100%\" height=\"500\" allow=\"autoplay; camera; microphone; clipboard-read; clipboard-write;\" frameborder=\"0\" allowfullscreen></iframe></div>"
      ],
      "text/plain": [
       "<IPython.core.display.HTML object>"
      ]
     },
     "metadata": {},
     "output_type": "display_data"
    },
    {
     "data": {
      "text/plain": []
     },
     "execution_count": 17,
     "metadata": {},
     "output_type": "execute_result"
    }
   ],
   "source": [
    "gr.ChatInterface(chat, type=\"messages\").launch()"
   ]
  },
  {
   "cell_type": "code",
   "execution_count": null,
   "id": "008b30e6",
   "metadata": {},
   "outputs": [],
   "source": []
  }
 ],
 "metadata": {
  "kernelspec": {
   "display_name": "venv",
   "language": "python",
   "name": "python3"
  },
  "language_info": {
   "codemirror_mode": {
    "name": "ipython",
    "version": 3
   },
   "file_extension": ".py",
   "mimetype": "text/x-python",
   "name": "python",
   "nbconvert_exporter": "python",
   "pygments_lexer": "ipython3",
   "version": "3.13.5"
  }
 },
 "nbformat": 4,
 "nbformat_minor": 5
}
